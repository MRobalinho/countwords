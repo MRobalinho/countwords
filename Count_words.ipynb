{
 "cells": [
  {
   "cell_type": "markdown",
   "metadata": {},
   "source": [
    "# Count Words\n",
    "\n",
    "\n",
    "    "
   ]
  },
  {
   "cell_type": "code",
   "execution_count": 5,
   "metadata": {},
   "outputs": [],
   "source": [
    "from fastapi import FastAPI\n",
    "\n",
    "app = FastAPI()\n",
    "\n",
    "\n",
    "@app.get(\"/\")\n",
    "async def root():\n",
    "    return {\"message\": \"Hello World from Manuel Robalinho\"}"
   ]
  },
  {
   "cell_type": "code",
   "execution_count": 4,
   "metadata": {},
   "outputs": [],
   "source": [
    "# With hypercorn installed ASGI frameworks (or apps) can be served via\n",
    "# Hypercorn via the command line,\n",
    "# $ hypercorn main:app\n",
    "\n",
    "# look at http://127.0.0.1:8000/    the page server display"
   ]
  },
  {
   "cell_type": "code",
   "execution_count": 6,
   "metadata": {},
   "outputs": [
    {
     "name": "stdout",
     "output_type": "stream",
     "text": [
      "{'the': 2, 'quick': 1, 'brown': 1, 'fox': 1, 'jumps': 1, 'over': 1, 'lazy': 1, 'dog.': 1}\n"
     ]
    }
   ],
   "source": [
    "def word_count(str):\n",
    "    counts = dict()\n",
    "    words = str.split()\n",
    "\n",
    "    for word in words:\n",
    "        if word in counts:\n",
    "            counts[word] += 1\n",
    "        else:\n",
    "            counts[word] = 1\n",
    "\n",
    "    return counts\n",
    "\n",
    "print( word_count('the quick brown fox jumps over the lazy dog.'))"
   ]
  },
  {
   "cell_type": "code",
   "execution_count": 10,
   "metadata": {},
   "outputs": [
    {
     "name": "stdout",
     "output_type": "stream",
     "text": [
      "The original string is : Calculates the time some text takes the average human to read, based on Medium’s [read time forumula](https://help.medium.com/hc/en-us/articles/214991667-Read-time) ### Algorithm Medium’s Help Center says, Read time is based on the average reading speed of an adult (roughly 265 WPM). We take the total word count of a post and translate it into minutes, with an adjustment made for images. For posts in Chinese, Japanese and Korean, it’s a function of number of characters (500 characters/min) with an adjustment made for images.Geeksforgeeks is best Computer Science Portal\n",
      "-----------------------------------------------------------\n",
      "The number of words in string are : 85\n",
      "This text needs  19.25  seconds to read.\n"
     ]
    }
   ],
   "source": [
    "# https://pypi.org/project/readtime/\n",
    "\n",
    "# Python3 code to demonstrate  \n",
    "# to count words in string  \n",
    "# using split() \n",
    "  \n",
    "# initializing string   \n",
    "test_string = \"Calculates the time some text takes the average human to read, based on Medium’s [read time forumula](https://help.medium.com/hc/en-us/articles/214991667-Read-time) ### Algorithm Medium’s Help Center says, Read time is based on the average reading speed of an adult (roughly 265 WPM). We take the total word count of a post and translate it into minutes, with an adjustment made for images. For posts in Chinese, Japanese and Korean, it’s a function of number of characters (500 characters/min) with an adjustment made for images.Geeksforgeeks is best Computer Science Portal\"\n",
    "  \n",
    "# printing original string \n",
    "print (\"The original string is : \" +  test_string) \n",
    "  \n",
    "# using split() \n",
    "# to count words in string \n",
    "res = len(test_string.split()) \n",
    "\n",
    "num_words = res\n",
    "# printing result \n",
    "print('-----------------------------------------------------------')\n",
    "print (\"The number of words in string are : \" +  str(res)) \n",
    "\n",
    "seconds = num_words / 265 * 60\n",
    "seconds = round(seconds,2)\n",
    "print(\"This text needs \", seconds, \" seconds to read.\")"
   ]
  },
  {
   "cell_type": "code",
   "execution_count": null,
   "metadata": {},
   "outputs": [],
   "source": []
  }
 ],
 "metadata": {
  "kernelspec": {
   "display_name": "Python 3",
   "language": "python",
   "name": "python3"
  },
  "language_info": {
   "codemirror_mode": {
    "name": "ipython",
    "version": 3
   },
   "file_extension": ".py",
   "mimetype": "text/x-python",
   "name": "python",
   "nbconvert_exporter": "python",
   "pygments_lexer": "ipython3",
   "version": "3.7.1"
  }
 },
 "nbformat": 4,
 "nbformat_minor": 2
}
